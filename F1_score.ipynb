{
  "nbformat": 4,
  "nbformat_minor": 0,
  "metadata": {
    "colab": {
      "provenance": [],
      "collapsed_sections": [
        "Lj407C2xM8Xq"
      ],
      "gpuType": "T4"
    },
    "kernelspec": {
      "name": "python3",
      "display_name": "Python 3"
    },
    "language_info": {
      "name": "python"
    },
    "accelerator": "GPU"
  },
  "cells": [
    {
      "cell_type": "markdown",
      "source": [
        "# Calculate scores"
      ],
      "metadata": {
        "id": "Lj407C2xM8Xq"
      }
    },
    {
      "cell_type": "code",
      "execution_count": null,
      "metadata": {
        "colab": {
          "base_uri": "https://localhost:8080/"
        },
        "id": "0sVrjwciL2h5",
        "outputId": "a44602b9-99f4-46a4-c681-e1e347749d11"
      },
      "outputs": [
        {
          "output_type": "stream",
          "name": "stdout",
          "text": [
            "              precision    recall  f1-score   support\n",
            "\n",
            "         cat       1.00      0.75      0.86         4\n",
            "         dog       0.60      0.60      0.60         5\n",
            "       tiger       1.00      0.83      0.91         6\n",
            "        wolf       0.60      1.00      0.75         3\n",
            "\n",
            "    accuracy                           0.78        18\n",
            "   macro avg       0.80      0.80      0.78        18\n",
            "weighted avg       0.82      0.78      0.79        18\n",
            "\n"
          ]
        }
      ],
      "source": [
        "#from sklearn.metrics import classification_report\n",
        "import sklearn\n",
        "# 4 classes: cat, dog, tiger, wolf\n",
        "y_true = [0, 0, 0, 0, 1, 1, 1, 1, 1, 2, 2, 2, 2, 2, 2, 3, 3, 3]\n",
        "y_pred = [0, 0, 0, 1, 1, 1, 3, 3, 1, 2, 2, 2, 2, 2, 1, 3, 3, 3]\n",
        "target_names = ['cat', 'dog', 'tiger', 'wolf']\n",
        "print(sklearn.metrics.classification_report(y_true, y_pred, target_names=target_names))"
      ]
    },
    {
      "cell_type": "markdown",
      "source": [],
      "metadata": {
        "id": "3YK6ssUjSyiT"
      }
    },
    {
      "cell_type": "markdown",
      "source": [
        "# Logistic regression"
      ],
      "metadata": {
        "id": "uOF0RzmhS0eA"
      }
    },
    {
      "cell_type": "code",
      "source": [
        "from sklearn.datasets import load_iris\n",
        "from sklearn.linear_model import LogisticRegression\n",
        "from sklearn.model_selection import train_test_split\n",
        "\n",
        "iris = load_iris()\n",
        "X, y = iris.data, iris.target\n",
        "X_train,X_test,y_train,y_test=train_test_split(X,y,test_size=0.2,random_state=2)"
      ],
      "metadata": {
        "id": "vWm-nSPLS6Jq"
      },
      "execution_count": null,
      "outputs": []
    },
    {
      "cell_type": "code",
      "source": [
        "clf = LogisticRegression(random_state=0, max_iter=1000).fit(X_train, y_train)"
      ],
      "metadata": {
        "id": "LXR_8nC7TocL"
      },
      "execution_count": null,
      "outputs": []
    },
    {
      "cell_type": "code",
      "source": [
        "from sklearn.metrics import classification_report\n",
        "y_pred = clf.predict(X_test)\n",
        "target_names = list(iris.target_names)\n",
        "print(classification_report(y_test, y_pred, target_names=target_names))"
      ],
      "metadata": {
        "colab": {
          "base_uri": "https://localhost:8080/"
        },
        "id": "OJ90Y2VfTIz-",
        "outputId": "3345c844-7b08-49d7-850a-8a1446ef69f0"
      },
      "execution_count": null,
      "outputs": [
        {
          "output_type": "stream",
          "name": "stdout",
          "text": [
            "              precision    recall  f1-score   support\n",
            "\n",
            "      setosa       1.00      1.00      1.00        14\n",
            "  versicolor       1.00      0.88      0.93         8\n",
            "   virginica       0.89      1.00      0.94         8\n",
            "\n",
            "    accuracy                           0.97        30\n",
            "   macro avg       0.96      0.96      0.96        30\n",
            "weighted avg       0.97      0.97      0.97        30\n",
            "\n"
          ]
        }
      ]
    }
  ]
}